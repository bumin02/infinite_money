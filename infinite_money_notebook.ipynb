{
 "cells": [
  {
   "cell_type": "markdown",
   "id": "66960967",
   "metadata": {},
   "source": [
    "This is the notebook for the group \"infinite_money\""
   ]
  }
 ],
 "metadata": {
  "kernelspec": {
   "display_name": "infinite_money",
   "language": "python",
   "name": "infinite_money"
  },
  "language_info": {
   "codemirror_mode": {
    "name": "ipython",
    "version": 3
   },
   "file_extension": ".py",
   "mimetype": "text/x-python",
   "name": "python",
   "nbconvert_exporter": "python",
   "pygments_lexer": "ipython3",
   "version": "3.8.10"
  }
 },
 "nbformat": 4,
 "nbformat_minor": 5
}
